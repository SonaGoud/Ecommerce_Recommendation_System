{
 "cells": [
  {
   "cell_type": "code",
   "execution_count": null,
   "id": "27524025-dbe5-40aa-b4f9-87fb1571bd07",
   "metadata": {},
   "outputs": [],
   "source": [
    "# E-commerce Product Recommendation System\n",
    "\n",
    "This project implements a user-based collaborative filtering recommendation system \n",
    "using pandas & scikit-learn. It suggests products to users based on the ratings \n",
    "given by similar users.\n",
    "\n",
    "- Uses cosine similarity\n",
    "- Simple data example (MovieLens)\n",
    "- Technologies: Python, pandas, sklearn\n",
    "\n",
    "    "
   ]
  }
 ],
 "metadata": {
  "kernelspec": {
   "display_name": "py310-recommend",
   "language": "python",
   "name": "py310-recommend"
  },
  "language_info": {
   "codemirror_mode": {
    "name": "ipython",
    "version": 3
   },
   "file_extension": ".py",
   "mimetype": "text/x-python",
   "name": "python",
   "nbconvert_exporter": "python",
   "pygments_lexer": "ipython3",
   "version": "3.12.4"
  }
 },
 "nbformat": 4,
 "nbformat_minor": 5
}
